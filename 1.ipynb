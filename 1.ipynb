version https://git-lfs.github.com/spec/v1
oid sha256:7678117fab7aa6c8d7417cc66abc967d2353cead47d10ba2d8c93da7ecd6db1c
size 67073
